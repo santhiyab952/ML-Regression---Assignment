{
 "cells": [
  {
   "cell_type": "code",
   "execution_count": 5,
   "metadata": {},
   "outputs": [],
   "source": [
    "import pickle\n",
    "filename=\"finalized_model_Random_Forest.sav\"  \n",
    "model=pickle.load(open(filename,'rb'))"
   ]
  },
  {
   "cell_type": "code",
   "execution_count": 6,
   "metadata": {},
   "outputs": [
    {
     "name": "stdout",
     "output_type": "stream",
     "text": [
      "Enter age:44\n",
      "Enter BMI:5300\n",
      "Enter Children:5\n",
      "Enter Sex_Male 0 or 1:1\n",
      "Enter Smoker_yes 0 or 1:1\n"
     ]
    }
   ],
   "source": [
    "age_input=int(input(\"Enter age:\"))\n",
    "BMI_input=(input(\"Enter BMI:\"))\n",
    "children_input=int(input(\"Enter Children:\"))\n",
    "sex_male_input=int(input(\"Enter Sex_Male 0 or 1:\"))\n",
    "Smoker_input=int(input(\"Enter Smoker_yes 0 or 1:\"))"
   ]
  },
  {
   "cell_type": "code",
   "execution_count": 7,
   "metadata": {},
   "outputs": [],
   "source": [
    "result=model.predict([[age_input,BMI_input,children_input,sex_male_input,Smoker_input]])"
   ]
  },
  {
   "cell_type": "code",
   "execution_count": 8,
   "metadata": {},
   "outputs": [
    {
     "data": {
      "text/plain": [
       "array([40081.6575133])"
      ]
     },
     "execution_count": 8,
     "metadata": {},
     "output_type": "execute_result"
    }
   ],
   "source": [
    "result"
   ]
  },
  {
   "cell_type": "code",
   "execution_count": null,
   "metadata": {},
   "outputs": [],
   "source": []
  }
 ],
 "metadata": {
  "kernelspec": {
   "display_name": "Python 3",
   "language": "python",
   "name": "python3"
  },
  "language_info": {
   "codemirror_mode": {
    "name": "ipython",
    "version": 3
   },
   "file_extension": ".py",
   "mimetype": "text/x-python",
   "name": "python",
   "nbconvert_exporter": "python",
   "pygments_lexer": "ipython3",
   "version": "3.7.4"
  }
 },
 "nbformat": 4,
 "nbformat_minor": 2
}
